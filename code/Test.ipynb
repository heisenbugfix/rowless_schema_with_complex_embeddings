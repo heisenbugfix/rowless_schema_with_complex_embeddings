{
 "cells": [
  {
   "cell_type": "code",
   "execution_count": 1,
   "metadata": {},
   "outputs": [
    {
     "name": "stdout",
     "output_type": "stream",
     "text": [
      "OK\n"
     ]
    }
   ],
   "source": [
    "import tensorflow as tf\n",
    "\n",
    "#TODO: Make model more generic. Need to abstractions\n",
    "class RowlessModel(object):\n",
    "    # Create input placeholder for the network\n",
    "    def __init__(self, wordvecdim, num_units, seq1, seq2=None, seq3=None, mode=\"train\"):\n",
    "        if mode==\"train\":\n",
    "            assert seq2 is not None\n",
    "            assert seq3 is not None\n",
    "\n",
    "        self.wordvec_dim  = wordvecdim\n",
    "        self.num_units = num_units\n",
    "        self.seq_len1 = seq1\n",
    "        self.seq_len2 = seq2\n",
    "        self.seq_len3 = seq3\n",
    "        self.create_placeholders()\n",
    "        self.create_lstm_outputs()\n",
    "        self.loss()\n",
    "        self.sess = tf.Session()\n",
    "        self.init = tf.global_variables_initializer()\n",
    "        self.sess.run(self.init)\n",
    "\n",
    "        # generate the outputs for each input\n",
    "    def create_lstm_outputs(self):\n",
    "        with tf.variable_scope('shared_lstm') as scope:\n",
    "            self.out_input_1 = self.lstm_share(self.num_units, self.input_1, self.seq_len1)\n",
    "            scope.reuse_variables()  # the variables will be reused.\n",
    "            self.out_input_2 = self.lstm_share(self.num_units, self.input_2, self.seq_len2, True)\n",
    "            scope.reuse_variables()\n",
    "            self.out_input_3 = self.lstm_share(self.num_units, self.input_3, self.seq_len3, True)\n",
    "\n",
    "    def create_placeholders(self):\n",
    "        self.input_1 = tf.placeholder(tf.float32, [None, None, self.wordvec_dim], name=\"s1\")\n",
    "        self.input_2 = tf.placeholder(tf.float32, [None, None, self.wordvec_dim], name = \"s2\")\n",
    "        self.input_3 = tf.placeholder(tf.float32, [None, None, self.wordvec_dim], name = \"s3\")\n",
    "\n",
    "    # create a shared rnn layer\n",
    "    def lstm_share(self, num_units, input, seq_len, reuse=False):\n",
    "        lstm_cell = tf.nn.rnn_cell.BasicLSTMCell(num_units=num_units, state_is_tuple=True, reuse=reuse)\n",
    "        outputs, _ = tf.nn.dynamic_rnn(cell=lstm_cell,\n",
    "                                      inputs=input,\n",
    "                                      sequence_length=seq_len,\n",
    "                                      dtype=tf.float32\n",
    "                                      )\n",
    "\n",
    "        return outputs[-1]\n",
    "\n",
    "    def loss(self):\n",
    "        self.loss = tf.log(tf.sigmoid(tf.matmul(self.out_input_1, self.out_input_2) - tf.matmul(self.out_input_1, self.out_input_3)))\n",
    "\n",
    "    def train(self):\n",
    "        pass\n",
    "    \n",
    "\n",
    "def preprocess_sents():\n",
    "    \n",
    "\n",
    "    # # verify whether the variables are reused\n",
    "    # for v in tf.global_variables():\n",
    "    #    print(v.name)\n",
    "    #\n",
    "    # # concat the three outputs\n",
    "    # output = tf.concat...\n",
    "    #\n",
    "    # # Pass it to the final_lstm layer and out the logits\n",
    "    # logits = final_layer(output, ...)\n",
    "    #\n",
    "    # train_op = ...\n",
    "    #\n",
    "    # # train\n",
    "    # sess.run(train_op, feed_dict{input_1: in1, input_2: in2, input_3:in3, labels: ...}\n",
    "\n",
    "\n",
    "\n",
    "r = RowlessModel(12,20,[2,3,4],[4,6,7],[1,2,3])\n",
    "print (\"OK\")"
   ]
  },
  {
   "cell_type": "code",
   "execution_count": 2,
   "metadata": {},
   "outputs": [
    {
     "data": {
      "text/plain": [
       "'1.4.0'"
      ]
     },
     "execution_count": 2,
     "metadata": {},
     "output_type": "execute_result"
    }
   ],
   "source": [
    "tf.__version__"
   ]
  },
  {
   "cell_type": "code",
   "execution_count": 7,
   "metadata": {},
   "outputs": [],
   "source": [
    "import codecs\n",
    "import numpy as np\n",
    "import pandas as pd\n",
    "import re"
   ]
  },
  {
   "cell_type": "code",
   "execution_count": 21,
   "metadata": {},
   "outputs": [
    {
     "name": "stdout",
     "output_type": "stream",
     "text": [
      "(10,)\n"
     ]
    }
   ],
   "source": [
    "f = 'D:\\\\Comp\\\\689_project\\\\data\\\\kb_00.txt'\n",
    "with open(f,'rb') as f:\n",
    "        test_lines = [str(codecs.unicode_escape_decode(str(f.readline())[2:-3])[0])[1:].split('\\t') for i in range(10)]\n",
    "test_lines = np.array(test_lines)\n",
    "ip = test_lines.T\n",
    "print(np.array([re.sub('[^\\w\\s]','',i.lower()) for i in ip[12]]).shape)"
   ]
  },
  {
   "cell_type": "code",
   "execution_count": 23,
   "metadata": {},
   "outputs": [
    {
     "data": {
      "text/plain": [
       "array([ 'Jill Scott and George Benson preside , gloriously , over the Gershwin classic .',\n",
       "       'Actor Jim Broadbent , who plays Denis Thatcher in The Iron Lady , has been telling me of his recollections of the late Prime Ministerial consort .',\n",
       "       \"Dylan slips in such lines as , `` IÂ\\x92m sitting on my watch so I can be on time '' and `` The future for me is already a thing of the past '' Â\\x97with an apparent straight faceÂ\\x97and then turns around and quotes William Blake .\",\n",
       "       '( Turkey , without a doubt ; I had not been to Istanbul in a while , and it is turning into a fabulous business and lifestyle place .',\n",
       "       'Morrison uses the specter of faded British rock stars to make a strong comment on contemporary culture , singing : ThereÂ\\x92s nothing to relate to anymore/Unless you wan na be mediocre .',\n",
       "       'You see , Elijah Wood â\\x80\\x99s latest flick is the almost unheard of and critically nonclaimed â\\x80\\x9cGreen Street Hooligansâ\\x80\\x9d , a movie about an American student whoâ\\x80\\x99s swept up in the world of soccer hooligans in England .',\n",
       "       'United States v. Salinas , 365 F.3d 582 , 587 ( 7th Cir .',\n",
       "       \"By Daniel J. DeNoonWebMD the Magazine - Feature Reviewed by Brunilda Nazario , MD Lorraine Bracco , as psychiatrist Jennifer Melfi on The Sopranos , HBO 's smash hit , is cool and calm talking with Tony Soprano about the mobster 's depression .\",\n",
       "       \"Based on unsubstantiated charges that Bracco 's new husband , actor Edward James Olmos , had once fondled a teenage girl , Keitel later initiated a protracted custody battle .\",\n",
       "       \"That came after Stella got better and after the role of Dr. Melfi in The Sopranos rejuvenated Bracco 's career .\"],\n",
       "      dtype='<U244')"
      ]
     },
     "execution_count": 23,
     "metadata": {},
     "output_type": "execute_result"
    }
   ],
   "source": [
    "ip[12]"
   ]
  },
  {
   "cell_type": "code",
   "execution_count": 20,
   "metadata": {},
   "outputs": [],
   "source": [
    "def preprocess_file(f):\n",
    "    with open(f,'rb') as f:\n",
    "        test_lines = [str(codecs.unicode_escape_decode(str(f.readline())[2:-3])[0])[1:].split('\\t') for i in range(10)]\n",
    "    test_lines = np.array(test_lines)\n",
    "    ip = test_lines.T\n",
    "    print(np.array([re.sub('[^\\w\\s]','',i.lower()) for i in ip[12]]).shape)\n",
    "    return ip[[0,2,3,4,5,7,8,9,12]]"
   ]
  },
  {
   "cell_type": "code",
   "execution_count": 8,
   "metadata": {},
   "outputs": [
    {
     "data": {
      "text/plain": [
       "[(0, array(['m/044gyq', 'm/01nwwl', 'm/01vrncs', 'm/01znc_', 'm/01wp8w7',\n",
       "         'm/015t56', 'm/09c7w0', 'm/02lf70', 'm/02lf70', 'm/0kfv9'],\n",
       "        dtype='<U244')),\n",
       " (1,\n",
       "  array(['XXX', 'XXX', 'XXX', 'XXX', 'XXX', 'XXX', 'XXX', 'XXX', 'XXX', 'XXX'],\n",
       "        dtype='<U244')),\n",
       " (2, array(['Jill Scott', 'Jim Broadbent', 'Dylan', 'Turkey', 'Morrison',\n",
       "         'Elijah Wood', 'United States', 'Lorraine Bracco', 'Bracco',\n",
       "         'The Sopranos'],\n",
       "        dtype='<U244')),\n",
       " (3, array(['0', '1', '0', '1', '0', '3', '0', '14', '5', '14'],\n",
       "        dtype='<U244')),\n",
       " (4, array(['2', '3', '1', '2', '1', '5', '2', '16', '6', '16'],\n",
       "        dtype='<U244')),\n",
       " (5, array(['/m/03d2k', '/m/0g9wdmc', '/m/03f70xs', '/m/09949m', '/m/07ssc',\n",
       "         '/m/09c7w0', '/m/0r22d', '/m/0kfv9', '/m/016yr0', '/m/02lf70'],\n",
       "        dtype='<U244')),\n",
       " (6,\n",
       "  array(['XXX', 'XXX', 'XXX', 'XXX', 'XXX', 'XXX', 'XXX', 'XXX', 'XXX', 'XXX'],\n",
       "        dtype='<U244')),\n",
       " (7, array(['George Benson', 'The Iron Lady', 'William Blake', 'Istanbul',\n",
       "         'British', 'American', 'Salinas', 'The Sopranos',\n",
       "         'Edward James Olmos', 'Bracco'],\n",
       "        dtype='<U244')),\n",
       " (8, array(['3', '9', '44', '12', '6', '24', '3', '22', '11', '17'],\n",
       "        dtype='<U244')),\n",
       " (9, array(['5', '12', '46', '13', '7', '25', '4', '24', '14', '18'],\n",
       "        dtype='<U244')),\n",
       " (10, array(['clueweb12-0006wb-68-20396', 'clueweb12-0006wb-68-25726',\n",
       "         'clueweb12-0006wb-68-31783', 'clueweb12-0006wb-68-26501',\n",
       "         'clueweb12-0006wb-68-31781', 'clueweb12-0006wb-68-28965',\n",
       "         'clueweb12-0006wb-68-26866', 'clueweb12-0006wb-68-21463',\n",
       "         'clueweb12-0006wb-68-21463', 'clueweb12-0006wb-68-21463'],\n",
       "        dtype='<U244')),\n",
       " (11, array(['XXXX', 'XXXX', 'XXXX', 'XXXX', 'XXXX', 'XXXX', 'XXXX', 'XXXX',\n",
       "         'XXXX', 'XXXX'],\n",
       "        dtype='<U244')),\n",
       " (12, array(['10', '10', '10', '10', '10', '10', '10', '10', '10', '10'],\n",
       "        dtype='<U244'))]"
      ]
     },
     "execution_count": 8,
     "metadata": {},
     "output_type": "execute_result"
    }
   ],
   "source": [
    "list(enumerate(ip))"
   ]
  },
  {
   "cell_type": "code",
   "execution_count": 182,
   "metadata": {},
   "outputs": [],
   "source": [
    "df = pd.DataFrame({'e1':ip[0],'e2':ip[4],'e1_str':ip[2],'e2_str':ip[7],'sent':ip[12],\\\n",
    "              'e1_idx_s':ip[3],'e1_idx_e':ip[4],'e2_idx_s':ip[8],'e2_idx_e':ip[9]})"
   ]
  },
  {
   "cell_type": "code",
   "execution_count": 19,
   "metadata": {},
   "outputs": [
    {
     "name": "stdout",
     "output_type": "stream",
     "text": [
      "(10,)\n"
     ]
    },
    {
     "data": {
      "text/plain": [
       "[(0, array(['m/044gyq', 'm/01nwwl', 'm/01vrncs', 'm/01znc_', 'm/01wp8w7',\n",
       "         'm/015t56', 'm/09c7w0', 'm/02lf70', 'm/02lf70', 'm/0kfv9'],\n",
       "        dtype='<U244')),\n",
       " (1, array(['Jill Scott', 'Jim Broadbent', 'Dylan', 'Turkey', 'Morrison',\n",
       "         'Elijah Wood', 'United States', 'Lorraine Bracco', 'Bracco',\n",
       "         'The Sopranos'],\n",
       "        dtype='<U244')),\n",
       " (2, array(['0', '1', '0', '1', '0', '3', '0', '14', '5', '14'],\n",
       "        dtype='<U244')),\n",
       " (3, array(['2', '3', '1', '2', '1', '5', '2', '16', '6', '16'],\n",
       "        dtype='<U244')),\n",
       " (4, array(['/m/03d2k', '/m/0g9wdmc', '/m/03f70xs', '/m/09949m', '/m/07ssc',\n",
       "         '/m/09c7w0', '/m/0r22d', '/m/0kfv9', '/m/016yr0', '/m/02lf70'],\n",
       "        dtype='<U244')),\n",
       " (5, array(['George Benson', 'The Iron Lady', 'William Blake', 'Istanbul',\n",
       "         'British', 'American', 'Salinas', 'The Sopranos',\n",
       "         'Edward James Olmos', 'Bracco'],\n",
       "        dtype='<U244')),\n",
       " (6, array(['3', '9', '44', '12', '6', '24', '3', '22', '11', '17'],\n",
       "        dtype='<U244')),\n",
       " (7, array(['5', '12', '46', '13', '7', '25', '4', '24', '14', '18'],\n",
       "        dtype='<U244')),\n",
       " (8,\n",
       "  array([ 'Jill Scott and George Benson preside , gloriously , over the Gershwin classic .',\n",
       "         'Actor Jim Broadbent , who plays Denis Thatcher in The Iron Lady , has been telling me of his recollections of the late Prime Ministerial consort .',\n",
       "         \"Dylan slips in such lines as , `` IÂ\\x92m sitting on my watch so I can be on time '' and `` The future for me is already a thing of the past '' Â\\x97with an apparent straight faceÂ\\x97and then turns around and quotes William Blake .\",\n",
       "         '( Turkey , without a doubt ; I had not been to Istanbul in a while , and it is turning into a fabulous business and lifestyle place .',\n",
       "         'Morrison uses the specter of faded British rock stars to make a strong comment on contemporary culture , singing : ThereÂ\\x92s nothing to relate to anymore/Unless you wan na be mediocre .',\n",
       "         'You see , Elijah Wood â\\x80\\x99s latest flick is the almost unheard of and critically nonclaimed â\\x80\\x9cGreen Street Hooligansâ\\x80\\x9d , a movie about an American student whoâ\\x80\\x99s swept up in the world of soccer hooligans in England .',\n",
       "         'United States v. Salinas , 365 F.3d 582 , 587 ( 7th Cir .',\n",
       "         \"By Daniel J. DeNoonWebMD the Magazine - Feature Reviewed by Brunilda Nazario , MD Lorraine Bracco , as psychiatrist Jennifer Melfi on The Sopranos , HBO 's smash hit , is cool and calm talking with Tony Soprano about the mobster 's depression .\",\n",
       "         \"Based on unsubstantiated charges that Bracco 's new husband , actor Edward James Olmos , had once fondled a teenage girl , Keitel later initiated a protracted custody battle .\",\n",
       "         \"That came after Stella got better and after the role of Dr. Melfi in The Sopranos rejuvenated Bracco 's career .\"],\n",
       "        dtype='<U244'))]"
      ]
     },
     "execution_count": 19,
     "metadata": {},
     "output_type": "execute_result"
    }
   ],
   "source": [
    "list(enumerate(preprocess_file('D:\\\\Comp\\\\689_project\\\\data\\\\kb_00.txt')))"
   ]
  },
  {
   "cell_type": "code",
   "execution_count": null,
   "metadata": {},
   "outputs": [],
   "source": []
  }
 ],
 "metadata": {
  "kernelspec": {
   "display_name": "Python 3",
   "language": "python",
   "name": "python3"
  },
  "language_info": {
   "codemirror_mode": {
    "name": "ipython",
    "version": 3
   },
   "file_extension": ".py",
   "mimetype": "text/x-python",
   "name": "python",
   "nbconvert_exporter": "python",
   "pygments_lexer": "ipython3",
   "version": "3.5.4"
  }
 },
 "nbformat": 4,
 "nbformat_minor": 2
}
