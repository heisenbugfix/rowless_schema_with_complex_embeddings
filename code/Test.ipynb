{
 "cells": [
  {
   "cell_type": "code",
   "execution_count": 1,
   "metadata": {},
   "outputs": [
    {
     "name": "stdout",
     "output_type": "stream",
     "text": [
      "OK\n"
     ]
    }
   ],
   "source": [
    "import tensorflow as tf\n",
    "\n",
    "#TODO: Make model more generic. Need to abstractions\n",
    "class RowlessModel(object):\n",
    "    # Create input placeholder for the network\n",
    "    def __init__(self, wordvecdim, num_units, seq1, seq2=None, seq3=None, mode=\"train\"):\n",
    "        if mode==\"train\":\n",
    "            assert seq2 is not None\n",
    "            assert seq3 is not None\n",
    "\n",
    "        self.wordvec_dim  = wordvecdim\n",
    "        self.num_units = num_units\n",
    "        self.seq_len1 = seq1\n",
    "        self.seq_len2 = seq2\n",
    "        self.seq_len3 = seq3\n",
    "        self.create_placeholders()\n",
    "        self.create_lstm_outputs()\n",
    "        self.loss()\n",
    "        self.sess = tf.Session()\n",
    "        self.init = tf.global_variables_initializer()\n",
    "        self.sess.run(self.init)\n",
    "\n",
    "        # generate the outputs for each input\n",
    "    def create_lstm_outputs(self):\n",
    "        with tf.variable_scope('shared_lstm') as scope:\n",
    "            self.out_input_1 = self.lstm_share(self.num_units, self.input_1, self.seq_len1)\n",
    "            scope.reuse_variables()  # the variables will be reused.\n",
    "            self.out_input_2 = self.lstm_share(self.num_units, self.input_2, self.seq_len2, True)\n",
    "            scope.reuse_variables()\n",
    "            self.out_input_3 = self.lstm_share(self.num_units, self.input_3, self.seq_len3, True)\n",
    "\n",
    "    def create_placeholders(self):\n",
    "        self.input_1 = tf.placeholder(tf.float32, [None, None, self.wordvec_dim], name=\"s1\")\n",
    "        self.input_2 = tf.placeholder(tf.float32, [None, None, self.wordvec_dim], name = \"s2\")\n",
    "        self.input_3 = tf.placeholder(tf.float32, [None, None, self.wordvec_dim], name = \"s3\")\n",
    "\n",
    "    # create a shared rnn layer\n",
    "    def lstm_share(self, num_units, input, seq_len, reuse=False):\n",
    "        lstm_cell = tf.nn.rnn_cell.BasicLSTMCell(num_units=num_units, state_is_tuple=True, reuse=reuse)\n",
    "        outputs, _ = tf.nn.dynamic_rnn(cell=lstm_cell,\n",
    "                                      inputs=input,\n",
    "                                      sequence_length=seq_len,\n",
    "                                      dtype=tf.float32\n",
    "                                      )\n",
    "\n",
    "        return outputs[-1]\n",
    "\n",
    "    def loss(self):\n",
    "        self.loss = tf.log(tf.sigmoid(tf.matmul(self.out_input_1, self.out_input_2) - tf.matmul(self.out_input_1, self.out_input_3)))\n",
    "\n",
    "    def train(self):\n",
    "        pass\n",
    "    \n",
    "\n",
    "def preprocess_sents():\n",
    "    \n",
    "\n",
    "    # # verify whether the variables are reused\n",
    "    # for v in tf.global_variables():\n",
    "    #    print(v.name)\n",
    "    #\n",
    "    # # concat the three outputs\n",
    "    # output = tf.concat...\n",
    "    #\n",
    "    # # Pass it to the final_lstm layer and out the logits\n",
    "    # logits = final_layer(output, ...)\n",
    "    #\n",
    "    # train_op = ...\n",
    "    #\n",
    "    # # train\n",
    "    # sess.run(train_op, feed_dict{input_1: in1, input_2: in2, input_3:in3, labels: ...}\n",
    "\n",
    "\n",
    "\n",
    "r = RowlessModel(12,20,[2,3,4],[4,6,7],[1,2,3])\n",
    "print (\"OK\")"
   ]
  },
  {
   "cell_type": "code",
   "execution_count": 2,
   "metadata": {},
   "outputs": [
    {
     "data": {
      "text/plain": [
       "'1.4.0'"
      ]
     },
     "execution_count": 2,
     "metadata": {},
     "output_type": "execute_result"
    }
   ],
   "source": [
    "tf.__version__"
   ]
  },
  {
   "cell_type": "code",
   "execution_count": 3,
   "metadata": {},
   "outputs": [],
   "source": [
    "import codecs\n",
    "import numpy as np\n",
    "import pandas as pd\n",
    "import re"
   ]
  },
  {
   "cell_type": "code",
   "execution_count": 75,
   "metadata": {},
   "outputs": [],
   "source": [
    "def preprocess_file(f):\n",
    "    \"\"\"Returns np.array [9 x n_sents]. Columns : [e1,e1_str,e1_start_idx,e1_end_idx,e2,e2_str,e2_start_idx,e2_end_idx,sent]\"\"\"\n",
    "    with open(f,'rb') as f:\n",
    "        test_lines = [(str(codecs.unicode_escape_decode(str(i)[2:-3])[0])[1:].split('\\t')) for i in f.readlines()]\n",
    "    test_lines = np.array([i for i in test_lines if len(i)==13])\n",
    "    ip = test_lines.T\n",
    "    ip[12] = np.array([re.sub('[^\\w\\s]','',i.lower()) for i in ip[12]])\n",
    "    return ip[[0,2,3,4,5,7,8,9,12]]"
   ]
  },
  {
   "cell_type": "code",
   "execution_count": 46,
   "metadata": {},
   "outputs": [],
   "source": [
    "df = pd.DataFrame({'e1':ip[0],'e2':ip[4],'e1_str':ip[2],'e2_str':ip[7],'sent':ip[12],\\\n",
    "              'e1_idx_s':ip[3],'e1_idx_e':ip[4],'e2_idx_s':ip[8],'e2_idx_e':ip[9]})"
   ]
  },
  {
   "cell_type": "code",
   "execution_count": 58,
   "metadata": {},
   "outputs": [],
   "source": [
    "f = 'D:\\\\Comp\\\\689_project\\\\data\\\\kb_00.txt'\n",
    "prproc = preprocess_file(f)"
   ]
  },
  {
   "cell_type": "code",
   "execution_count": null,
   "metadata": {},
   "outputs": [],
   "source": []
  }
 ],
 "metadata": {
  "kernelspec": {
   "display_name": "Python 3",
   "language": "python",
   "name": "python3"
  },
  "language_info": {
   "codemirror_mode": {
    "name": "ipython",
    "version": 3
   },
   "file_extension": ".py",
   "mimetype": "text/x-python",
   "name": "python",
   "nbconvert_exporter": "python",
   "pygments_lexer": "ipython3",
   "version": "3.5.4"
  }
 },
 "nbformat": 4,
 "nbformat_minor": 2
}
